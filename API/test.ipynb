{
 "cells": [
  {
   "cell_type": "code",
   "execution_count": 1,
   "id": "83f3a0cb",
   "metadata": {},
   "outputs": [
    {
     "name": "stdout",
     "output_type": "stream",
     "text": [
      "Đã giải nén sample.xlsx vào thư mục sample_unzipped\n"
     ]
    },
    {
     "name": "stderr",
     "output_type": "stream",
     "text": [
      "Procss file:: 100%|██████████| 145/145 [00:16<00:00,  8.94lines/s]\n",
      "Procss file:: 100%|██████████| 145/145 [00:18<00:00,  7.95lines/s]\n"
     ]
    }
   ],
   "source": [
    "from API.convert import PROCESS_XLXS\n",
    "info = PROCESS_XLXS(\"sample.xlsx\")\n",
    "frame = info.process(\"SinoNom OCR\")"
   ]
  },
  {
   "cell_type": "code",
   "execution_count": 3,
   "id": "66dc273c",
   "metadata": {},
   "outputs": [
    {
     "data": {
      "text/plain": [
       "[{'Text': '', 'Font': {'default'}, 'Color': 'default'},\n",
       " {'Text': '𠦳', 'Font': {'Arial'}, 'Color': 'FF000000'},\n",
       " {'Text': '秋', 'Font': {'Arial'}, 'Color': 'FF000000'},\n",
       " {'Text': '﨤', 'Font': {'Arial'}, 'Color': 'FF000000'},\n",
       " {'Text': '會', 'Font': {'Arial'}, 'Color': 'FF000000'},\n",
       " {'Text': '昇', 'Font': {'Arial'}, 'Color': 'FF000000'},\n",
       " {'Text': '平', 'Font': {'Arial'}, 'Color': 'FF000000'}]"
      ]
     },
     "execution_count": 3,
     "metadata": {},
     "output_type": "execute_result"
    }
   ],
   "source": [
    "frame.Config[0]"
   ]
  },
  {
   "cell_type": "code",
   "execution_count": 8,
   "id": "bcaf51ed",
   "metadata": {},
   "outputs": [
    {
     "data": {
      "text/plain": [
       "[\"[{'Text': '', 'Font': {'default'}, 'Color': 'default'}, {'Text': '𣇟', 'Font': {'Arial'}, 'Color': 'FF000000'}, {'Text': '閨', 'Font': {'Arial'}, 'Color': 'FF000000'}, {'Text': '𤏬', 'Font': {'Arial'}, 'Color': 'FF000000'}, {'Text': '𨤔', 'Font': {'Arial'}, 'Color': 'FF000000'}, {'Text': '文', 'Font': {'Arial'}, 'Color': 'FF000000'}, {'Text': '明', 'Font': {'Arial'}, 'Color': 'FF000000'}, {'Text': '𡧲', 'Font': {'Arial'}, 'Color': 'FF000000'}, {'Text': '𡗶', 'Font': {'Arial'}, 'Color': 'FF000000'}]\"]"
      ]
     },
     "execution_count": 8,
     "metadata": {},
     "output_type": "execute_result"
    }
   ],
   "source": [
    "frame.to_csv(\"info.csv\")\n",
    "list(frame.Config[frame.Name == \"D3\"])"
   ]
  },
  {
   "cell_type": "code",
   "execution_count": 5,
   "id": "285e783b",
   "metadata": {},
   "outputs": [],
   "source": [
    "import json\n",
    "frame[\"Config\"] = frame[\"Config\"].astype(str)  # Nếu cần ép thành chuỗi\n",
    "json_dict = {\"0\": list(frame[\"Config\"])}\n",
    "\n",
    "with open(\"info.json\", \"w\", encoding=\"utf-8\") as f:\n",
    "    json.dump(json_dict, f, indent=4)"
   ]
  },
  {
   "cell_type": "code",
   "execution_count": 32,
   "id": "af12cebe",
   "metadata": {},
   "outputs": [],
   "source": [
    "import pandas as pd\n",
    "\n",
    "df = pd.read_excel(\"dict\\SinoNom_Similar_Dic_v2.xlsx\")\n",
    "df.to_json(\"SinoNom_Similar_Dic_v2.json\")"
   ]
  },
  {
   "cell_type": "code",
   "execution_count": null,
   "id": "ecd04d66",
   "metadata": {},
   "outputs": [],
   "source": []
  }
 ],
 "metadata": {
  "kernelspec": {
   "display_name": "ocr_corrector",
   "language": "python",
   "name": "python3"
  },
  "language_info": {
   "codemirror_mode": {
    "name": "ipython",
    "version": 3
   },
   "file_extension": ".py",
   "mimetype": "text/x-python",
   "name": "python",
   "nbconvert_exporter": "python",
   "pygments_lexer": "ipython3",
   "version": "3.8.12"
  }
 },
 "nbformat": 4,
 "nbformat_minor": 5
}
