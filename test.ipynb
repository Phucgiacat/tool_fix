{
 "cells": [
  {
   "cell_type": "code",
   "execution_count": 12,
   "id": "83f3a0cb",
   "metadata": {},
   "outputs": [
    {
     "name": "stderr",
     "output_type": "stream",
     "text": [
      "Procss file::   0%|          | 0/145 [00:00<?, ?lines/s]"
     ]
    },
    {
     "name": "stderr",
     "output_type": "stream",
     "text": [
      "Procss file:: 100%|██████████| 145/145 [00:07<00:00, 18.62lines/s]\n"
     ]
    }
   ],
   "source": [
    "from API.convert import PROCESS_XLXS\n",
    "\n",
    "info = PROCESS_XLXS(\"sample.xlsx\")\n",
    "frame = info.process(\"SinoNom OCR\")"
   ]
  },
  {
   "cell_type": "code",
   "execution_count": null,
   "id": "bcaf51ed",
   "metadata": {},
   "outputs": [],
   "source": [
    "frame[\"Config\"].to_json(\"info.json\")"
   ]
  },
  {
   "cell_type": "code",
   "execution_count": 31,
   "id": "285e783b",
   "metadata": {},
   "outputs": [],
   "source": [
    "import json\n",
    "frame[\"Config\"] = frame[\"Config\"].astype(str)  # Nếu cần ép thành chuỗi\n",
    "json_dict = {\"0\": list(frame[\"Config\"])}\n",
    "\n",
    "with open(\"info.json\", \"w\", encoding=\"utf-8\") as f:\n",
    "    json.dump(json_dict, f, indent=4)"
   ]
  },
  {
   "cell_type": "code",
   "execution_count": 32,
   "id": "af12cebe",
   "metadata": {},
   "outputs": [],
   "source": [
    "import pandas as pd\n",
    "\n",
    "df = pd.read_excel(\"dict\\SinoNom_Similar_Dic_v2.xlsx\")\n",
    "df.to_json(\"SinoNom_Similar_Dic_v2.json\")"
   ]
  },
  {
   "cell_type": "code",
   "execution_count": null,
   "id": "ecd04d66",
   "metadata": {},
   "outputs": [],
   "source": []
  }
 ],
 "metadata": {
  "kernelspec": {
   "display_name": "ocr_corrector",
   "language": "python",
   "name": "python3"
  },
  "language_info": {
   "codemirror_mode": {
    "name": "ipython",
    "version": 3
   },
   "file_extension": ".py",
   "mimetype": "text/x-python",
   "name": "python",
   "nbconvert_exporter": "python",
   "pygments_lexer": "ipython3",
   "version": "3.8.12"
  }
 },
 "nbformat": 4,
 "nbformat_minor": 5
}
